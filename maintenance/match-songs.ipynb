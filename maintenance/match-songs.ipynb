{
 "cells": [
  {
   "cell_type": "code",
   "execution_count": null,
   "metadata": {},
   "outputs": [],
   "source": [
    "import json\n",
    "import copy"
   ]
  },
  {
   "cell_type": "markdown",
   "metadata": {},
   "source": [
    "## Load data"
   ]
  },
  {
   "cell_type": "code",
   "execution_count": null,
   "metadata": {},
   "outputs": [],
   "source": [
    "with open(\"songs-flower.json\", \"r\", encoding='utf8') as f:\n",
    "    flower_full = json.load(f)\n",
    "with open(\"songs-kamai.json\", \"r\", encoding='utf8') as f:\n",
    "    kamai_full = json.load(f)\n",
    "\n",
    "# clean data\n",
    "# for flower, null means song doesn't exist, remove it\n",
    "to_remove = [i for i in flower_full if flower_full[i] is None]\n",
    "for i in to_remove:\n",
    "    flower_full.pop(i)"
   ]
  },
  {
   "cell_type": "markdown",
   "metadata": {},
   "source": [
    "## Helper functions"
   ]
  },
  {
   "cell_type": "code",
   "execution_count": null,
   "metadata": {},
   "outputs": [],
   "source": [
    "def map_remove_duplicates(data: dict, key) -> dict:\n",
    "    result = {}\n",
    "    dupes = set()\n",
    "    for id,info in data.items():\n",
    "        k = key(info)\n",
    "        if k in dupes:\n",
    "            continue\n",
    "        if k in result:\n",
    "            dupes.add(k)\n",
    "            result.pop(k)\n",
    "            continue\n",
    "        result[k] = id\n",
    "    return result\n",
    "\n",
    "def match_based_on(flower, kamai, key):\n",
    "    kf = map_remove_duplicates(flower, key)\n",
    "    kk = map_remove_duplicates(kamai, key)\n",
    "    result = {}\n",
    "    for k in kf:\n",
    "        if k in kk:\n",
    "            result[kf[k]] = kk[k]\n",
    "    return result\n",
    "\n",
    "def filter_ids(flower, kamai, matching):\n",
    "    new_flower = copy.copy(flower)\n",
    "    new_kamai = copy.copy(kamai)\n",
    "    for k in matching.keys():\n",
    "        new_flower.pop(k)\n",
    "    for k in matching.values():\n",
    "        new_kamai.pop(k)\n",
    "    return new_flower, new_kamai"
   ]
  },
  {
   "cell_type": "markdown",
   "metadata": {},
   "source": [
    "## Match based on title"
   ]
  },
  {
   "cell_type": "code",
   "execution_count": null,
   "metadata": {},
   "outputs": [],
   "source": [
    "def clean_title(title: str) -> str:\n",
    "    # tilde character used between the databases is different\n",
    "    title = title.replace('〜', '').replace('～', '')\n",
    "    title = title.replace('(UPPER)', 'UPPER')\n",
    "    # some song names have trailing whitespace\n",
    "    title = title.strip()\n",
    "    return title\n",
    "\n",
    "flower, kamai = flower_full, kamai_full\n",
    "total_matched = {}\n",
    "\n",
    "matched = match_based_on(flower, kamai, lambda data: clean_title(data['title']))\n",
    "flower, kamai = filter_ids(flower, kamai, matched)\n",
    "\n",
    "total_matched = {**total_matched, **matched}\n",
    "total_matched_title = total_matched\n",
    "matched_title = matched\n",
    "flower_after_title, kamai_after_title = flower, kamai\n",
    "\n",
    "print(\"Ids matched:\", len(matched))\n",
    "print(\"Remaining flower ids:\", len(flower))\n",
    "print(\"Remaining kamai ids:\", len(kamai))\n"
   ]
  },
  {
   "cell_type": "markdown",
   "metadata": {},
   "source": [
    "## Grab extra flower data"
   ]
  },
  {
   "cell_type": "markdown",
   "metadata": {},
   "source": [
    "The charts we didn't manage to match with just the title, we'll have to get more information by loading the full song page.\n",
    "\n",
    "Please update the Flower data file with song data for the below ids and re-run this notebook with the new data."
   ]
  },
  {
   "cell_type": "code",
   "execution_count": null,
   "metadata": {},
   "outputs": [],
   "source": [
    "print(list(flower_after_title.keys()))"
   ]
  },
  {
   "cell_type": "markdown",
   "metadata": {},
   "source": [
    "## Match based on difficulty spread"
   ]
  },
  {
   "cell_type": "code",
   "execution_count": null,
   "metadata": {},
   "outputs": [],
   "source": [
    "def difficulty_spread(data) -> tuple:\n",
    "    return tuple(data['charts'].get(i, None) for i in ['Easy', 'Normal', 'Hyper', 'EX'])\n",
    "\n",
    "flower, kamai = flower_after_title, kamai_after_title\n",
    "total_matched = total_matched_title\n",
    "\n",
    "# match with spread\n",
    "matched = match_based_on(flower, kamai, difficulty_spread)\n",
    "flower, kamai = filter_ids(flower, kamai, matched)\n",
    "\n",
    "# because spreads can be really general, try matching using spread AND title. This does eliminate a couple of songs.\n",
    "matched2 = match_based_on(flower, kamai, lambda data: (clean_title(data['title']), difficulty_spread(data)))\n",
    "flower, kamai = filter_ids(flower, kamai, matched2)\n",
    "matched = {**matched, **matched2}\n",
    "\n",
    "total_matched = {**total_matched, **matched}\n",
    "total_matched_spread = total_matched\n",
    "matched_spread = matched\n",
    "flower_after_spread, kamai_after_spread = flower, kamai\n",
    "\n",
    "print(\"Ids matched:\", len(matched))\n",
    "print(\"Remaining flower ids:\", len(flower))\n",
    "print(\"Remaining kamai ids:\", len(kamai))"
   ]
  },
  {
   "cell_type": "markdown",
   "metadata": {},
   "source": [
    "## Done"
   ]
  },
  {
   "cell_type": "code",
   "execution_count": null,
   "metadata": {},
   "outputs": [],
   "source": [
    "print(total_matched)"
   ]
  },
  {
   "cell_type": "code",
   "execution_count": null,
   "metadata": {},
   "outputs": [],
   "source": [
    "# Paste the result of this into the main scraper script.\n",
    "\n",
    "KAMAI_TO_FLOWER_ID = []\n",
    "for fid,kid in total_matched.items():\n",
    "    fid = int(fid)\n",
    "    kid = int(kid)\n",
    "\n",
    "    if len(KAMAI_TO_FLOWER_ID) <= kid:\n",
    "        KAMAI_TO_FLOWER_ID.extend([None] * (kid - len(KAMAI_TO_FLOWER_ID) + 1))\n",
    "    # print(len(KAMAI_TO_FLOWER_ID), kid)\n",
    "    # assert len(KAMAI_TO_FLOWER_ID) == kid+1\n",
    "    KAMAI_TO_FLOWER_ID[kid] = fid\n",
    "\n",
    "print(json.dumps(KAMAI_TO_FLOWER_ID, separators=(',', ':')))"
   ]
  }
 ],
 "metadata": {
  "kernelspec": {
   "display_name": "Python 3",
   "language": "python",
   "name": "python3"
  },
  "language_info": {
   "codemirror_mode": {
    "name": "ipython",
    "version": 3
   },
   "file_extension": ".py",
   "mimetype": "text/x-python",
   "name": "python",
   "nbconvert_exporter": "python",
   "pygments_lexer": "ipython3",
   "version": "3.9.13"
  }
 },
 "nbformat": 4,
 "nbformat_minor": 2
}
